{
 "cells": [
  {
   "cell_type": "code",
   "execution_count": 4,
   "id": "da66c6b0-187b-4b5c-a26b-718439e196c7",
   "metadata": {},
   "outputs": [
    {
     "name": "stdout",
     "output_type": "stream",
     "text": [
      "Similarity between doc2.txt and doc3.txt: 0.55\n",
      "Similarity between doc1.txt and doc2.txt: 0.15\n",
      "Similarity between doc1.txt and doc3.txt: 0.19\n"
     ]
    }
   ],
   "source": [
    "import os\n",
    "from sklearn.feature_extraction.text import TfidfVectorizer\n",
    "from sklearn.metrics.pairwise import cosine_similarity\n",
    "\n",
    "# Specify the filenames of the three text documents\n",
    "file_names = [\"doc1.txt\", \"doc2.txt\", \"doc3.txt\"]\n",
    "\n",
    "# Ensure that the files exist in the current directory\n",
    "for file_name in file_names:\n",
    "    if not os.path.exists(file_name):\n",
    "        raise FileNotFoundError(f\"{file_name} does not exist in the current directory.\")\n",
    "\n",
    "# Read the content of the files\n",
    "student_notes = [open(file_name, encoding='utf-8').read() for file_name in file_names]\n",
    "\n",
    "def vectorize(texts):\n",
    "    return TfidfVectorizer().fit_transform(texts).toarray()\n",
    "\n",
    "def similarity(doc1, doc2):\n",
    "    return cosine_similarity([doc1, doc2])\n",
    "\n",
    "# Vectorize the documents\n",
    "vectors = vectorize(student_notes)\n",
    "s_vectors = list(zip(file_names, vectors))\n",
    "plagiarism_results = set()\n",
    "\n",
    "def check_plagiarism():\n",
    "    global s_vectors\n",
    "    for student_a, text_vector_a in s_vectors:\n",
    "        new_vectors = s_vectors.copy()\n",
    "        current_index = new_vectors.index((student_a, text_vector_a))\n",
    "        del new_vectors[current_index]\n",
    "        for student_b, text_vector_b in new_vectors:\n",
    "            sim_score = similarity(text_vector_a, text_vector_b)[0][1]\n",
    "            student_pair = sorted((student_a, student_b))\n",
    "            score = (student_pair[0], student_pair[1], sim_score)\n",
    "            plagiarism_results.add(score)\n",
    "    return plagiarism_results\n",
    "\n",
    "# Check plagiarism and print results\n",
    "results = check_plagiarism()\n",
    "for data in results:\n",
    "    print(f\"Similarity between {data[0]} and {data[1]}: {data[2]:.2f}\")\n"
   ]
  }
 ],
 "metadata": {
  "kernelspec": {
   "display_name": "Python 3 (ipykernel)",
   "language": "python",
   "name": "python3"
  },
  "language_info": {
   "codemirror_mode": {
    "name": "ipython",
    "version": 3
   },
   "file_extension": ".py",
   "mimetype": "text/x-python",
   "name": "python",
   "nbconvert_exporter": "python",
   "pygments_lexer": "ipython3",
   "version": "3.11.7"
  }
 },
 "nbformat": 4,
 "nbformat_minor": 5
}
